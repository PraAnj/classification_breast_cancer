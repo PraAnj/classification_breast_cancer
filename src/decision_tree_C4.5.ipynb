{
 "cells": [
  {
   "cell_type": "markdown",
   "metadata": {},
   "source": [
    "**Imports and workspace setting**\n",
    "\n",
    "C4.5 implementation is taken from https://github.com/michaeldorner/DecisionTrees"
   ]
  },
  {
   "cell_type": "code",
   "execution_count": 49,
   "metadata": {},
   "outputs": [],
   "source": [
    "import pandas as pd\n",
    "import numpy as np\n",
    "import matplotlib.pyplot as plt\n",
    "import seaborn as sns\n",
    "import operator\n",
    "\n",
    "from sklearn.model_selection import train_test_split\n",
    "from sklearn import metrics\n",
    "from DecisionTrees import implementation as c45\n",
    "\n",
    "plt.style.use('ggplot')"
   ]
  },
  {
   "cell_type": "markdown",
   "metadata": {},
   "source": [
    "**Loading data file**"
   ]
  },
  {
   "cell_type": "code",
   "execution_count": 50,
   "metadata": {},
   "outputs": [
    {
     "data": {
      "text/html": [
       "<div>\n",
       "<style scoped>\n",
       "    .dataframe tbody tr th:only-of-type {\n",
       "        vertical-align: middle;\n",
       "    }\n",
       "\n",
       "    .dataframe tbody tr th {\n",
       "        vertical-align: top;\n",
       "    }\n",
       "\n",
       "    .dataframe thead th {\n",
       "        text-align: right;\n",
       "    }\n",
       "</style>\n",
       "<table border=\"1\" class=\"dataframe\">\n",
       "  <thead>\n",
       "    <tr style=\"text-align: right;\">\n",
       "      <th></th>\n",
       "      <th>1</th>\n",
       "      <th>2</th>\n",
       "      <th>3</th>\n",
       "      <th>4</th>\n",
       "      <th>5</th>\n",
       "      <th>6</th>\n",
       "      <th>7</th>\n",
       "      <th>8</th>\n",
       "      <th>9</th>\n",
       "      <th>10</th>\n",
       "    </tr>\n",
       "  </thead>\n",
       "  <tbody>\n",
       "    <tr>\n",
       "      <th>0</th>\n",
       "      <td>5</td>\n",
       "      <td>1</td>\n",
       "      <td>1</td>\n",
       "      <td>1</td>\n",
       "      <td>2</td>\n",
       "      <td>1</td>\n",
       "      <td>3</td>\n",
       "      <td>1</td>\n",
       "      <td>1</td>\n",
       "      <td>2</td>\n",
       "    </tr>\n",
       "    <tr>\n",
       "      <th>1</th>\n",
       "      <td>5</td>\n",
       "      <td>4</td>\n",
       "      <td>4</td>\n",
       "      <td>5</td>\n",
       "      <td>7</td>\n",
       "      <td>10</td>\n",
       "      <td>3</td>\n",
       "      <td>2</td>\n",
       "      <td>1</td>\n",
       "      <td>2</td>\n",
       "    </tr>\n",
       "    <tr>\n",
       "      <th>2</th>\n",
       "      <td>3</td>\n",
       "      <td>1</td>\n",
       "      <td>1</td>\n",
       "      <td>1</td>\n",
       "      <td>2</td>\n",
       "      <td>2</td>\n",
       "      <td>3</td>\n",
       "      <td>1</td>\n",
       "      <td>1</td>\n",
       "      <td>2</td>\n",
       "    </tr>\n",
       "    <tr>\n",
       "      <th>3</th>\n",
       "      <td>6</td>\n",
       "      <td>8</td>\n",
       "      <td>8</td>\n",
       "      <td>1</td>\n",
       "      <td>3</td>\n",
       "      <td>4</td>\n",
       "      <td>3</td>\n",
       "      <td>7</td>\n",
       "      <td>1</td>\n",
       "      <td>2</td>\n",
       "    </tr>\n",
       "    <tr>\n",
       "      <th>4</th>\n",
       "      <td>4</td>\n",
       "      <td>1</td>\n",
       "      <td>1</td>\n",
       "      <td>3</td>\n",
       "      <td>2</td>\n",
       "      <td>1</td>\n",
       "      <td>3</td>\n",
       "      <td>1</td>\n",
       "      <td>1</td>\n",
       "      <td>2</td>\n",
       "    </tr>\n",
       "  </tbody>\n",
       "</table>\n",
       "</div>"
      ],
      "text/plain": [
       "   1   2   3   4   5   6   7   8   9   10\n",
       "0   5   1   1   1   2   1   3   1   1   2\n",
       "1   5   4   4   5   7  10   3   2   1   2\n",
       "2   3   1   1   1   2   2   3   1   1   2\n",
       "3   6   8   8   1   3   4   3   7   1   2\n",
       "4   4   1   1   3   2   1   3   1   1   2"
      ]
     },
     "execution_count": 50,
     "metadata": {},
     "output_type": "execute_result"
    }
   ],
   "source": [
    "cancerData = pd.read_csv('../data/breast-cancer-wisconsin.data', header=None)\n",
    "cancerData.drop(cancerData.columns[0],axis=1,inplace=True)\n",
    "cancerData = cancerData.replace('?', np.nan)\n",
    "cancerData.head()"
   ]
  },
  {
   "cell_type": "markdown",
   "metadata": {},
   "source": [
    "**Stats of the data**"
   ]
  },
  {
   "cell_type": "code",
   "execution_count": 51,
   "metadata": {},
   "outputs": [
    {
     "data": {
      "text/plain": [
       "(699, 10)"
      ]
     },
     "execution_count": 51,
     "metadata": {},
     "output_type": "execute_result"
    }
   ],
   "source": [
    "cancerData.shape"
   ]
  },
  {
   "cell_type": "markdown",
   "metadata": {},
   "source": [
    "**Class distribution of benign (2) and malignant (4)**\n",
    "\n",
    "Class distribution is skewed towards benign."
   ]
  },
  {
   "cell_type": "code",
   "execution_count": 52,
   "metadata": {},
   "outputs": [
    {
     "data": {
      "text/plain": [
       "Text(0.5, 0, 'Class')"
      ]
     },
     "execution_count": 52,
     "metadata": {},
     "output_type": "execute_result"
    },
    {
     "data": {
      "image/png": "[encoded data removed]",
      "text/plain": [
       "<Figure size 432x288 with 1 Axes>"
      ]
     },
     "metadata": {},
     "output_type": "display_data"
    }
   ],
   "source": [
    "fig, ax = plt.subplots(figsize=(6,4))\n",
    "axes = cancerData[10].value_counts().plot(kind='bar', title='Class distribution')\n",
    "axes.set_ylabel('Count')\n",
    "axes.set_xlabel('Class')"
   ]
  },
  {
   "cell_type": "markdown",
   "metadata": {},
   "source": [
    "**Drop missing values**"
   ]
  },
  {
   "cell_type": "code",
   "execution_count": 53,
   "metadata": {},
   "outputs": [
    {
     "data": {
      "text/plain": [
       "(683, 10)"
      ]
     },
     "execution_count": 53,
     "metadata": {},
     "output_type": "execute_result"
    }
   ],
   "source": [
    "cancerDataAfterMissingValuesDropped = cancerData.dropna()\n",
    "cancerDataAfterMissingValuesDropped.shape"
   ]
  },
  {
   "cell_type": "markdown",
   "metadata": {},
   "source": [
    "**Holdout to create training (65%) and testing (35%) dataset**"
   ]
  },
  {
   "cell_type": "code",
   "execution_count": 54,
   "metadata": {},
   "outputs": [],
   "source": [
    "y = cancerDataAfterMissingValuesDropped.values[:,-1]\n",
    "y=y.astype('int')\n",
    "\n",
    "X = cancerDataAfterMissingValuesDropped.values[:,:-1]\n",
    "X=X.astype('int')"
   ]
  },
  {
   "cell_type": "code",
   "execution_count": 55,
   "metadata": {},
   "outputs": [
    {
     "name": "stdout",
     "output_type": "stream",
     "text": [
      "(443, 9),(443,)\n",
      "(240, 9),(240,)\n"
     ]
    }
   ],
   "source": [
    "X_train, X_test, y_train, y_test = train_test_split(X, y, test_size=0.35, random_state=8)\n",
    "print (str(X_train.shape) +\",\"+ str(y_train.shape))\n",
    "print (str(X_test.shape) +\",\"+ str(y_test.shape))"
   ]
  },
  {
   "cell_type": "code",
   "execution_count": 56,
   "metadata": {},
   "outputs": [],
   "source": [
    "first = np.reshape(X_train, (-1,9))\n",
    "second = np.reshape(y_train, (-1, 1))\n",
    "training = np.concatenate((first, second), axis=1)\n"
   ]
  },
  {
   "cell_type": "markdown",
   "metadata": {},
   "source": [
    "**Fit Decision tree (C4.5) model**"
   ]
  },
  {
   "cell_type": "code",
   "execution_count": 57,
   "metadata": {},
   "outputs": [
    {
     "name": "stdout",
     "output_type": "stream",
     "text": [
      "Column 1: x == 1?\n",
      "yes -> Column 5: x == 5?\n",
      "\t\tyes -> Column 4: x == 2?\n",
      "\t\t\t\tyes -> {2: 5}\n",
      "\t\t\t\tno  -> {4: 2}\n",
      "\t\tno  -> {2: 243}\n",
      "no  -> Column 5: x == 1?\n",
      "\t\tyes -> Column 1: x == 10?\n",
      "\t\t\t\tyes -> {4: 6}\n",
      "\t\t\t\tno  -> Column 4: x == 6?\n",
      "\t\t\t\t\t\tyes -> {4: 2}\n",
      "\t\t\t\t\t\tno  -> Column 4: x == 5?\n",
      "\t\t\t\t\t\t\t\tyes -> {4: 1}\n",
      "\t\t\t\t\t\t\t\tno  -> {2: 32}\n",
      "\t\tno  -> Column 5: x == 10?\n",
      "\t\t\t\tyes -> Column 4: x == 7?\n",
      "\t\t\t\t\t\tyes -> Column 0: x == 5?\n",
      "\t\t\t\t\t\t\t\tyes -> {2: 1}\n",
      "\t\t\t\t\t\t\t\tno  -> {4: 1}\n",
      "\t\t\t\t\t\tno  -> {4: 77}\n",
      "\t\t\t\tno  -> Column 4: x == 2?\n",
      "\t\t\t\t\t\tyes -> Column 0: x == 3?\n",
      "\t\t\t\t\t\t\t\tyes -> {2: 3}\n",
      "\t\t\t\t\t\t\t\tno  -> Column 5: x == 2?\n",
      "\t\t\t\t\t\t\t\t\t\tyes -> Column 0: x == 9?\n",
      "\t\t\t\t\t\t\t\t\t\t\t\tyes -> {4: 1}\n",
      "\t\t\t\t\t\t\t\t\t\t\t\tno  -> {2: 4}\n",
      "\t\t\t\t\t\t\t\t\t\tno  -> Column 0: x == 4?\n",
      "\t\t\t\t\t\t\t\t\t\t\t\tyes -> {2: 1}\n",
      "\t\t\t\t\t\t\t\t\t\t\t\tno  -> Column 2: x == 2?\n",
      "\t\t\t\t\t\t\t\t\t\t\t\t\t\tyes -> Column 0: x == 5?\n",
      "\t\t\t\t\t\t\t\t\t\t\t\t\t\t\t\tyes -> {2: 1}\n",
      "\t\t\t\t\t\t\t\t\t\t\t\t\t\t\t\tno  -> {4: 1}\n",
      "\t\t\t\t\t\t\t\t\t\t\t\t\t\tno  -> {4: 5}\n",
      "\t\t\t\t\t\tno  -> Column 1: x == 10?\n",
      "\t\t\t\t\t\t\t\tyes -> {4: 15}\n",
      "\t\t\t\t\t\t\t\tno  -> Column 0: x == 5?\n",
      "\t\t\t\t\t\t\t\t\t\tyes -> Column 1: x == 5?\n",
      "\t\t\t\t\t\t\t\t\t\t\t\tyes -> {4: 1}\n",
      "\t\t\t\t\t\t\t\t\t\t\t\tno  -> {2: 2}\n",
      "\t\t\t\t\t\t\t\t\t\tno  -> Column 0: x == 6?\n",
      "\t\t\t\t\t\t\t\t\t\t\t\tyes -> Column 7: x == 9?\n",
      "\t\t\t\t\t\t\t\t\t\t\t\t\t\tyes -> {4: 3}\n",
      "\t\t\t\t\t\t\t\t\t\t\t\t\t\tno  -> Column 2: x == 2?\n",
      "\t\t\t\t\t\t\t\t\t\t\t\t\t\t\t\tyes -> {4: 1}\n",
      "\t\t\t\t\t\t\t\t\t\t\t\t\t\t\t\tno  -> {2: 3}\n",
      "\t\t\t\t\t\t\t\t\t\t\t\tno  -> Column 1: x == 4?\n",
      "\t\t\t\t\t\t\t\t\t\t\t\t\t\tyes -> Column 2: x == 4?\n",
      "\t\t\t\t\t\t\t\t\t\t\t\t\t\t\t\tyes -> {2: 1}\n",
      "\t\t\t\t\t\t\t\t\t\t\t\t\t\t\t\tno  -> Column 3: x == 3?\n",
      "\t\t\t\t\t\t\t\t\t\t\t\t\t\t\t\t\t\tyes -> {2: 1}\n",
      "\t\t\t\t\t\t\t\t\t\t\t\t\t\t\t\t\t\tno  -> {4: 3}\n",
      "\t\t\t\t\t\t\t\t\t\t\t\t\t\tno  -> {4: 27}\n"
     ]
    }
   ],
   "source": [
    "decisionTree = c45.growDecisionTreeFrom(training)\t\t\n",
    "c45.plot(decisionTree)"
   ]
  },
  {
   "cell_type": "markdown",
   "metadata": {},
   "source": [
    "**Prune the tree to avoid overfitting**"
   ]
  },
  {
   "cell_type": "code",
   "execution_count": 58,
   "metadata": {
    "scrolled": true
   },
   "outputs": [
    {
     "name": "stdout",
     "output_type": "stream",
     "text": [
      "A branch was pruned: gain = 0.195909\n",
      "A branch was pruned: gain = 0.237286\n",
      "A branch was pruned: gain = 0.399031\n",
      "Column 1: x == 1?\n",
      "yes -> Column 5: x == 5?\n",
      "\t\tyes -> Column 4: x == 2?\n",
      "\t\t\t\tyes -> {2: 5}\n",
      "\t\t\t\tno  -> {4: 2}\n",
      "\t\tno  -> {2: 243}\n",
      "no  -> Column 5: x == 1?\n",
      "\t\tyes -> {4: 9, 2: 32}\n",
      "\t\tno  -> Column 5: x == 10?\n",
      "\t\t\t\tyes -> Column 4: x == 7?\n",
      "\t\t\t\t\t\tyes -> Column 0: x == 5?\n",
      "\t\t\t\t\t\t\t\tyes -> {2: 1}\n",
      "\t\t\t\t\t\t\t\tno  -> {4: 1}\n",
      "\t\t\t\t\t\tno  -> {4: 77}\n",
      "\t\t\t\tno  -> Column 4: x == 2?\n",
      "\t\t\t\t\t\tyes -> Column 0: x == 3?\n",
      "\t\t\t\t\t\t\t\tyes -> {2: 3}\n",
      "\t\t\t\t\t\t\t\tno  -> Column 5: x == 2?\n",
      "\t\t\t\t\t\t\t\t\t\tyes -> Column 0: x == 9?\n",
      "\t\t\t\t\t\t\t\t\t\t\t\tyes -> {4: 1}\n",
      "\t\t\t\t\t\t\t\t\t\t\t\tno  -> {2: 4}\n",
      "\t\t\t\t\t\t\t\t\t\tno  -> Column 0: x == 4?\n",
      "\t\t\t\t\t\t\t\t\t\t\t\tyes -> {2: 1}\n",
      "\t\t\t\t\t\t\t\t\t\t\t\tno  -> Column 2: x == 2?\n",
      "\t\t\t\t\t\t\t\t\t\t\t\t\t\tyes -> Column 0: x == 5?\n",
      "\t\t\t\t\t\t\t\t\t\t\t\t\t\t\t\tyes -> {2: 1}\n",
      "\t\t\t\t\t\t\t\t\t\t\t\t\t\t\t\tno  -> {4: 1}\n",
      "\t\t\t\t\t\t\t\t\t\t\t\t\t\tno  -> {4: 5}\n",
      "\t\t\t\t\t\tno  -> Column 1: x == 10?\n",
      "\t\t\t\t\t\t\t\tyes -> {4: 15}\n",
      "\t\t\t\t\t\t\t\tno  -> Column 0: x == 5?\n",
      "\t\t\t\t\t\t\t\t\t\tyes -> Column 1: x == 5?\n",
      "\t\t\t\t\t\t\t\t\t\t\t\tyes -> {4: 1}\n",
      "\t\t\t\t\t\t\t\t\t\t\t\tno  -> {2: 2}\n",
      "\t\t\t\t\t\t\t\t\t\tno  -> Column 0: x == 6?\n",
      "\t\t\t\t\t\t\t\t\t\t\t\tyes -> Column 7: x == 9?\n",
      "\t\t\t\t\t\t\t\t\t\t\t\t\t\tyes -> {4: 3}\n",
      "\t\t\t\t\t\t\t\t\t\t\t\t\t\tno  -> Column 2: x == 2?\n",
      "\t\t\t\t\t\t\t\t\t\t\t\t\t\t\t\tyes -> {4: 1}\n",
      "\t\t\t\t\t\t\t\t\t\t\t\t\t\t\t\tno  -> {2: 3}\n",
      "\t\t\t\t\t\t\t\t\t\t\t\tno  -> Column 1: x == 4?\n",
      "\t\t\t\t\t\t\t\t\t\t\t\t\t\tyes -> Column 2: x == 4?\n",
      "\t\t\t\t\t\t\t\t\t\t\t\t\t\t\t\tyes -> {2: 1}\n",
      "\t\t\t\t\t\t\t\t\t\t\t\t\t\t\t\tno  -> Column 3: x == 3?\n",
      "\t\t\t\t\t\t\t\t\t\t\t\t\t\t\t\t\t\tyes -> {2: 1}\n",
      "\t\t\t\t\t\t\t\t\t\t\t\t\t\t\t\t\t\tno  -> {4: 3}\n",
      "\t\t\t\t\t\t\t\t\t\t\t\t\t\tno  -> {4: 27}\n"
     ]
    }
   ],
   "source": [
    "c45.prune(decisionTree, 0.5, notify=True) # notify, when a branch is pruned (one time in this example)\n",
    "c45.plot(decisionTree)"
   ]
  },
  {
   "cell_type": "markdown",
   "metadata": {},
   "source": [
    "**Classifying using the tree created**"
   ]
  },
  {
   "cell_type": "code",
   "execution_count": 59,
   "metadata": {},
   "outputs": [
    {
     "name": "stdout",
     "output_type": "stream",
     "text": [
      "Accuracy score =  0.9291666666666667\n"
     ]
    }
   ],
   "source": [
    "predicted = []\n",
    "for row in X_test:\n",
    "    dictResult = c45.classify(row, decisionTree)\n",
    "    label = max(dictResult.items(), key=operator.itemgetter(1))[0]\n",
    "    predicted.append(label)\n",
    "    \n",
    "predictions = np.array(predicted)\n",
    "print('Accuracy score = ', metrics.accuracy_score(y_test, predictions))"
   ]
  },
  {
   "cell_type": "markdown",
   "metadata": {},
   "source": [
    "**Classification report**"
   ]
  },
  {
   "cell_type": "code",
   "execution_count": 60,
   "metadata": {},
   "outputs": [
    {
     "name": "stdout",
     "output_type": "stream",
     "text": [
      "               precision    recall  f1-score   support\n",
      "\n",
      "   2 (benign)      0.917     0.973     0.944       147\n",
      "4 (malignant)      0.952     0.860     0.904        93\n",
      "\n",
      "    micro avg      0.929     0.929     0.929       240\n",
      "    macro avg      0.935     0.917     0.924       240\n",
      " weighted avg      0.931     0.929     0.928       240\n",
      "\n"
     ]
    }
   ],
   "source": [
    "target_names = ['2 (benign)', '4 (malignant)']\n",
    "print(metrics.classification_report(y_test,predictions, target_names=target_names, digits=3))"
   ]
  },
  {
   "cell_type": "markdown",
   "metadata": {},
   "source": [
    "**Confusion metrix**"
   ]
  },
  {
   "cell_type": "code",
   "execution_count": 61,
   "metadata": {},
   "outputs": [
    {
     "data": {
      "image/png": "[encoded data removed]",
      "text/plain": [
       "<Figure size 288x288 with 2 Axes>"
      ]
     },
     "metadata": {},
     "output_type": "display_data"
    }
   ],
   "source": [
    "cm = metrics.confusion_matrix(y_test, predictions)\n",
    "\n",
    "fig, ax = plt.subplots(figsize=(4,4))\n",
    "ticklabels = [\"2 (benign)\",\"4 (malignant)\"]\n",
    "ax = sns.heatmap(cm, xticklabels=ticklabels, yticklabels=ticklabels, linewidths=0.1, annot=True, fmt='3.0f',cmap=plt.cm.viridis)"
   ]
  },
  {
   "cell_type": "markdown",
   "metadata": {},
   "source": [
    "**Conclusions**\n",
    "1. Pruning was used to avoid overfitting to training data.\n",
    "2. There was no method in this implementation to solve class skewness problem as in Logistic Regression hence KPIs were not good as for class 2 (malignant)."
   ]
  }
 ],
 "metadata": {
  "kernelspec": {
   "display_name": "Python 3",
   "language": "python",
   "name": "python3"
  },
  "language_info": {
   "codemirror_mode": {
    "name": "ipython",
    "version": 3
   },
   "file_extension": ".py",
   "mimetype": "text/x-python",
   "name": "python",
   "nbconvert_exporter": "python",
   "pygments_lexer": "ipython3",
   "version": "3.7.2"
  }
 },
 "nbformat": 4,
 "nbformat_minor": 2
}
